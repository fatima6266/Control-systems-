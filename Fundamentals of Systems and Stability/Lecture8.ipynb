{
 "cells": [
  {
   "cell_type": "markdown",
   "id": "d726ecae-47dc-4bfd-b169-eebd4b2e027e",
   "metadata": {},
   "source": [
    "# Week 8 - Frequency Domain Design "
   ]
  },
  {
   "cell_type": "markdown",
   "id": "c89a1a96-fdea-423a-9379-6f4b8ba6fba9",
   "metadata": {},
   "source": [
    "Gain the proportion of the magnitude of output to magnitude of the input at steady state, so its a scaling factor of the FRF (Frequency domain response) \n",
    "\n",
    "Phase is the shift of the signal measured in angle \n",
    "\n",
    "The output for a single input frequency is the combination of gain and phase \r\n",
    "shifts. The gain and phase can be different at different frequencie \n",
    ", we thn \r\n",
    "use Bode plot to show these informat\n",
    "\n",
    "The Bode plot is needed because the gain and phase can be different at different frequencies, this is common.\n",
    "ion."
   ]
  },
  {
   "cell_type": "markdown",
   "id": "ccbaa866-e188-4f3e-ae9b-c0efbd517074",
   "metadata": {},
   "source": [
    "### What are margins and why we need it?"
   ]
  },
  {
   "cell_type": "markdown",
   "id": "3a1d7076-2f65-4602-8b71-49c072a9ae1f",
   "metadata": {},
   "source": [
    "Margin is the extra amount of something you can use if needed.\n",
    "\n",
    "If we was to speak about Gain and Phase margins, we would focus on the extra gain and phase in the system that we can use in the system before the system starts to oscillate and go unstable.\n",
    "\n",
    "Less margin = Less stable (due to small deviations in the system that can cause stability)\n",
    "\n",
    "A piece of paper can be used as an analogy. A piece of paper has margins that you don't intend to write on, this is the whole purpose of the margin. The gain and phase margins are extra zones that help keep the stability of the system.\n",
    "\n",
    "Reminder - System pole in the right half plane of a pole-zero diagram (the pole has a \n",
    "positive real part\n",
    "\n",
    "\n",
    ")"
   ]
  },
  {
   "cell_type": "markdown",
   "id": "64c04163-c4e8-43b4-92b2-a761a887ba10",
   "metadata": {},
   "source": [
    "**Nomenclature:**\n",
    "\n",
    "**Phase margin:** is the difference between the system's phase and $-180^\\circ$ at the frequency where the gain is 0 $dB$. This frequency is called **gain crossover frequency.**\n",
    "\n",
    "**Gain margin:** is the difference between the system's gain and 0 $dB$ at the frequency where the phase is $-180^\\circ$.  This frequency is called the phase crossover frequency.\n",
    "\n",
    "**Compensator:** a transfer function connecting the system open loop transfer function in series. The compensator modifies the input, output or the feedback if the control system to achieve desifred dynamic"
   ]
  },
  {
   "cell_type": "markdown",
   "id": "b5fc5269-f6a6-461c-89ab-6d0d38ab03a7",
   "metadata": {},
   "source": [
    "### Typical system design problems\n",
    "In the practice, there are many different requirements for system design. The aim of solving these design problems is to cater the stability and the steady state response system\n",
    "\n",
    "We need to design a compensator\n",
    "\n",
    ", the main types of compensators are the **Phase lead compensator** and **Phase lag compensator** \n",
    "\n",
    "(a) G(s) = *K*\n",
    "The gain can be changed by K, but it doesn't change anything in phase\n",
    "\n",
    "(b) G(s) = $\\frac{K}{s}$\n",
    "Differentiation operator $s$ increases the phase but the gain reduces at low frequency while increases at high frequency. The integration operator $\\frac{1}{s}$\n",
    "has the opposite performance. \n",
    "\n",
    "(c) G(s) = $\\frac{s+a}{a}$ and $\\frac{b}{s+b}$"
   ]
  },
  {
   "cell_type": "markdown",
   "id": "ffe21689-1d27-4fe5-88fd-2f8e42e7f290",
   "metadata": {},
   "source": [
    "### Phase lead compensator \n",
    "The C(s) = $\\alpha$ $\\frac{s+a}{a}$ $\\frac{b}{s+b}$, $a<b$ is the phase lead compensator, $\\alpha$ is a scaling factor.  The phase lead compensator focuses on the Phase plot, caters to the \r\n",
    "Gain plot. That means we want accurate phase margin, slightly change in gains \r\n",
    "is acceptable.\n",
    "\n",
    "To put into context. A Lead Compensator helps the system respond faster to changes by focusing more on what's happening right now or very recently, and less on slow, old changes. So it ignores slow signals kes boosts quick responses which helps the system react faster and more sharp\n",
    "\n",
    "The phase lead compensator controlled  can be rewritten with two gain factors $K$ and $\\beta$\n",
    "\n",
    " C(s) = $K$ $\\frac{s+a}{a}$ $\\frac{b}{s+\\beta b}$, $1<\\beta<10$.\n",
    "\n"
   ]
  },
  {
   "cell_type": "code",
   "execution_count": null,
   "id": "7389db12-4a32-489f-af57-95c43b57f281",
   "metadata": {},
   "outputs": [],
   "source": []
  }
 ],
 "metadata": {
  "kernelspec": {
   "display_name": "Python 3 (ipykernel)",
   "language": "python",
   "name": "python3"
  },
  "language_info": {
   "codemirror_mode": {
    "name": "ipython",
    "version": 3
   },
   "file_extension": ".py",
   "mimetype": "text/x-python",
   "name": "python",
   "nbconvert_exporter": "python",
   "pygments_lexer": "ipython3",
   "version": "3.11.7"
  }
 },
 "nbformat": 4,
 "nbformat_minor": 5
}
