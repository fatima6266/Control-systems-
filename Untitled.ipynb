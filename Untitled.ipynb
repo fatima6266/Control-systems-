{
 "cells": [
  {
   "cell_type": "markdown",
   "id": "0f0c3138-abbd-4093-abe8-009ff82c7f37",
   "metadata": {},
   "source": [
    "# Week 6 - Frequency Analysis"
   ]
  },
  {
   "cell_type": "markdown",
   "id": "6450363d-d136-471e-836b-1fd89f2ff30b",
   "metadata": {},
   "source": [
    "## 1 Frequecy Response Analysis ##"
   ]
  },
  {
   "cell_type": "markdown",
   "id": "e342a88b-bda0-417a-839c-1764e76784a5",
   "metadata": {},
   "source": [
    "1.1 Frequency Response\n",
    "\n",
    "1.2 Frequency Response Function (FRF)"
   ]
  },
  {
   "cell_type": "markdown",
   "id": "2b110b70-f2f4-4185-be1a-a24dbb291c1c",
   "metadata": {},
   "source": [
    "## 2 Bode Plot ##"
   ]
  },
  {
   "cell_type": "markdown",
   "id": "7ef1fc09-323b-4b8c-9199-36164eaeb42b",
   "metadata": {},
   "source": [
    "2.1 Concept \n",
    "\n",
    "2.2 Sketch Bode Plots of Simple Factors\n",
    "\n",
    "2.3 Sketch Bode Plots of Multiple Factors \n",
    "\n",
    "2.4 Bode plots of Second Order Factors"
   ]
  },
  {
   "cell_type": "markdown",
   "id": "448be89b-0365-423b-82a5-1430bcc5878b",
   "metadata": {},
   "source": [
    "-------------------------------------------------------------------------------------------------------------------------------------"
   ]
  },
  {
   "cell_type": "markdown",
   "id": "69aae32e-935f-47bf-8519-1b8873f7c8e8",
   "metadata": {},
   "source": [
    "1.1 Frequency Response \n",
    "\n",
    "There are two types of responses, transient response and steady state response. The word transient itself means temporary. Therefore, a response that appears right after a change and will die out and once it does, only the steady-state response remains. A steady state response is as the name suggests, a stable response and the long-term behaviour of the system when time tends to infinity. As suggested before it is the new normal after the temporary transient response is over. \n"
   ]
  },
  {
   "cell_type": "markdown",
   "id": "47fd03c6-ed95-47d5-9a62-93303cd34992",
   "metadata": {},
   "source": [
    "If a sinusoidal signal is applied as an input to a Linear Time-Invariant (LTI) system, then it will produce a steady state output, which is also a sinusoidal signal. Therefore input and output sinsoidal signals have the same frequency, but different amplitudes and phase angles. "
   ]
  },
  {
   "cell_type": "markdown",
   "id": "e218226d-f2ad-4331-b851-3f8f89980baf",
   "metadata": {},
   "source": [
    "Lets take the example of a building shaker:\n",
    "\n",
    "Let the input signal be $u(t) = Asin(\\omega_ot)$"
   ]
  },
  {
   "cell_type": "markdown",
   "id": "07502486-d125-430b-b3f0-a811fbc1b251",
   "metadata": {},
   "source": [
    "Consider the system steady staate response only, the only look transfer function will be $G(s)=G(j\\omega)$"
   ]
  },
  {
   "cell_type": "markdown",
   "id": "95ebcb5d-4f00-46e1-ae43-0574b50fd2dd",
   "metadata": {},
   "source": [
    "Where the real part of the poles $\\sigma$ dominating the transient response are omitted. Futhermore, we can represent $G(j\\omega)$ in terms of magnitude and phase as shown below. $$G(j\\omega) = modulus(G(j"
   ]
  },
  {
   "cell_type": "code",
   "execution_count": null,
   "id": "f79c0e60-504e-4f3d-8986-335a9dfd10f9",
   "metadata": {},
   "outputs": [],
   "source": [
    "therefore if ww thing abour"
   ]
  },
  {
   "cell_type": "code",
   "execution_count": null,
   "id": "20da3ea8-4db6-40ba-8a93-337ef54ca31e",
   "metadata": {},
   "outputs": [],
   "source": []
  },
  {
   "cell_type": "code",
   "execution_count": null,
   "id": "e9244fb4-236d-451d-8fa3-45db1617ea97",
   "metadata": {},
   "outputs": [],
   "source": []
  },
  {
   "cell_type": "code",
   "execution_count": null,
   "id": "1cc9b5e1-c5e2-46e8-92b3-6513258b80a7",
   "metadata": {},
   "outputs": [],
   "source": []
  },
  {
   "cell_type": "code",
   "execution_count": null,
   "id": "5ceb2b3e-4ec1-4620-8ae7-ba414487c5fb",
   "metadata": {},
   "outputs": [],
   "source": []
  },
  {
   "cell_type": "code",
   "execution_count": null,
   "id": "2239f625-3d75-459a-82ef-73610f1ae83b",
   "metadata": {},
   "outputs": [],
   "source": []
  }
 ],
 "metadata": {
  "kernelspec": {
   "display_name": "Python 3 (ipykernel)",
   "language": "python",
   "name": "python3"
  },
  "language_info": {
   "codemirror_mode": {
    "name": "ipython",
    "version": 3
   },
   "file_extension": ".py",
   "mimetype": "text/x-python",
   "name": "python",
   "nbconvert_exporter": "python",
   "pygments_lexer": "ipython3",
   "version": "3.11.7"
  }
 },
 "nbformat": 4,
 "nbformat_minor": 5
}
